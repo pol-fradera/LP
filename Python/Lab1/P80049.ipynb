{
 "cells": [
  {
   "cell_type": "code",
   "execution_count": 10,
   "metadata": {},
   "outputs": [],
   "source": [
    "def count_unique(L):\n",
    "   return len(set(L))\n",
    "\n",
    "def remove_duplicates(L):\n",
    "    return list(set(L))\n",
    "\n",
    "def flatten(L):\n",
    "    if len(L) == 0:\n",
    "        return []\n",
    "    else:\n",
    "        x = L[0]\n",
    "        del L[0]\n",
    "        return x + flatten(L)\n",
    "    \n",
    "def flatten_rec(L):\n",
    "    if len(L) == 0:\n",
    "        return []\n",
    "    else:\n",
    "        x = L[0]\n",
    "        del L[0]\n",
    "        if isinstance(x,list):\n",
    "            return flatten_rec(x) + flatten_rec(L)\n",
    "        else:\n",
    "            return [x] + flatten_rec(L)"
   ]
  }
 ],
 "metadata": {
  "kernelspec": {
   "display_name": "Python 3",
   "language": "python",
   "name": "python3"
  },
  "language_info": {
   "codemirror_mode": {
    "name": "ipython",
    "version": 3
   },
   "file_extension": ".py",
   "mimetype": "text/x-python",
   "name": "python",
   "nbconvert_exporter": "python",
   "pygments_lexer": "ipython3",
   "version": "3.10.11"
  },
  "orig_nbformat": 4
 },
 "nbformat": 4,
 "nbformat_minor": 2
}
