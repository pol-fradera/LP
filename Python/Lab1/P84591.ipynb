{
 "cells": [
  {
   "cell_type": "code",
   "execution_count": 4,
   "metadata": {},
   "outputs": [],
   "source": [
    "def absValue(x):\n",
    "    if x >= 0:\n",
    "        return x\n",
    "    return -x\n",
    "\n",
    "def power(x,p):\n",
    "    if p == 0:\n",
    "        return 1\n",
    "    return x * power(x,p-1)\n",
    "\n",
    "def hasDivisors(x,div):\n",
    "    if (div*div) > x:\n",
    "        return False\n",
    "    elif (x%div) == 0:\n",
    "        return True\n",
    "    else:\n",
    "        return hasDivisors(x,div+1)\n",
    "    \n",
    "def isPrime(x):\n",
    "    if x == 0:\n",
    "        return False\n",
    "    elif x == 1:\n",
    "        return False\n",
    "    else: \n",
    "        return not(hasDivisors(x,2))\n",
    "    \n",
    "def slowFib(n):\n",
    "    if n == 0:\n",
    "        return 0\n",
    "    elif n == 1:\n",
    "        return 1\n",
    "    else:\n",
    "        return slowFib(n-1) + slowFib(n-2)\n",
    "    \n",
    "def quickFib2(a,b,it):\n",
    "    if it == 0:\n",
    "        return a\n",
    "    else:\n",
    "        return quickFib2(b,a+b,it-1)\n",
    "    \n",
    "def quickFib(n):\n",
    "    return quickFib2(0,1,n) "
   ]
  }
 ],
 "metadata": {
  "kernelspec": {
   "display_name": "Python 3",
   "language": "python",
   "name": "python3"
  },
  "language_info": {
   "codemirror_mode": {
    "name": "ipython",
    "version": 3
   },
   "file_extension": ".py",
   "mimetype": "text/x-python",
   "name": "python",
   "nbconvert_exporter": "python",
   "pygments_lexer": "ipython3",
   "version": "3.10.11"
  },
  "orig_nbformat": 4
 },
 "nbformat": 4,
 "nbformat_minor": 2
}
