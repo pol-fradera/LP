{
 "cells": [
  {
   "cell_type": "code",
   "execution_count": 18,
   "metadata": {},
   "outputs": [],
   "source": [
    "from functools import reduce\n",
    "def evens_product(L):\n",
    "    Le = [x for x in L if x%2 == 0]\n",
    "    return reduce(lambda acc,y: acc*y, Le, 1)\n",
    "\n",
    "def reverse(L):\n",
    "    return reduce(lambda acc,y: [y]+acc, L, [])\n",
    "\n",
    "def zip_with(f, L1, L2):\n",
    "    return [f(x,y) for x, y in zip(L1, L2)]\n",
    "\n",
    "def count_if (f, L):\n",
    "    return len([x for x in L if f(x)])"
   ]
  }
 ],
 "metadata": {
  "kernelspec": {
   "display_name": "Python 3",
   "language": "python",
   "name": "python3"
  },
  "language_info": {
   "codemirror_mode": {
    "name": "ipython",
    "version": 3
   },
   "file_extension": ".py",
   "mimetype": "text/x-python",
   "name": "python",
   "nbconvert_exporter": "python",
   "pygments_lexer": "ipython3",
   "version": "3.10.11"
  },
  "orig_nbformat": 4
 },
 "nbformat": 4,
 "nbformat_minor": 2
}
