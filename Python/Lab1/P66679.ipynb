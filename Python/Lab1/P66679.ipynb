{
 "cells": [
  {
   "cell_type": "code",
   "execution_count": 21,
   "metadata": {},
   "outputs": [],
   "source": [
    "def my_map(f, L):\n",
    "    return [f(x) for x in L]\n",
    "\n",
    "def my_filter(f, L):\n",
    "    return [x for x in L if f(x)]\n",
    "\n",
    "def factors(n):\n",
    "    return [x for x in range(1,n+1) if n%x == 0]\n",
    "\n",
    "def triplets(n):\n",
    "    return [(x,y,z) for x in range(1,n+1) for y in range(1,n+1) for z in range(1,n+1) if x*x + y*y == z*z]"
   ]
  }
 ],
 "metadata": {
  "kernelspec": {
   "display_name": "Python 3",
   "language": "python",
   "name": "python3"
  },
  "language_info": {
   "codemirror_mode": {
    "name": "ipython",
    "version": 3
   },
   "file_extension": ".py",
   "mimetype": "text/x-python",
   "name": "python",
   "nbconvert_exporter": "python",
   "pygments_lexer": "ipython3",
   "version": "3.10.11"
  },
  "orig_nbformat": 4
 },
 "nbformat": 4,
 "nbformat_minor": 2
}
