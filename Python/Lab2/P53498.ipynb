{
 "cells": [
  {
   "cell_type": "code",
   "execution_count": 5,
   "metadata": {},
   "outputs": [],
   "source": [
    "import queue\n",
    "class Tree:\n",
    "    def __init__(self, x):\n",
    "        self.rt = x\n",
    "        self.child = []\n",
    " \n",
    "    def __iter__(self):\n",
    "        q = queue.Queue()\n",
    "        t = self\n",
    "        yield t.rt\n",
    "        q.put(t)\n",
    "        while not q.empty():\n",
    "            t = q.get()\n",
    "            if t.numChildren() > 0:\n",
    "                tl = t.ithChild(0)\n",
    "                q.put(tl)\n",
    "                yield tl.rt\n",
    "            if t.numChildren() == 2:\n",
    "                tr = t.ithChild(1)\n",
    "                q.put(tr)\n",
    "                yield tr.rt\n",
    "\n",
    "\n",
    "    def addChild(self, a):\n",
    "        self.child.append(a)\n",
    "\n",
    "    def root(self):\n",
    "        return self.rt\n",
    "\n",
    "    def ithChild(self, i):\n",
    "        return self.child[i]\n",
    "\n",
    "    def numChildren(self):\n",
    "        return len(self.child)"
   ]
  }
 ],
 "metadata": {
  "kernelspec": {
   "display_name": "Python 3",
   "language": "python",
   "name": "python3"
  },
  "language_info": {
   "codemirror_mode": {
    "name": "ipython",
    "version": 3
   },
   "file_extension": ".py",
   "mimetype": "text/x-python",
   "name": "python",
   "nbconvert_exporter": "python",
   "pygments_lexer": "ipython3",
   "version": "3.10.11"
  },
  "orig_nbformat": 4
 },
 "nbformat": 4,
 "nbformat_minor": 2
}
