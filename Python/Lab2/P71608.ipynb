{
 "cells": [
  {
   "cell_type": "code",
   "execution_count": 55,
   "metadata": {},
   "outputs": [],
   "source": [
    "class Tree:\n",
    "    def __init__(self, x):\n",
    "        self.rt = x\n",
    "        self.child = []\n",
    " \n",
    "    def add_child(self, a):\n",
    "        self.child.append(a)\n",
    "\n",
    "    def root(self):\n",
    "        return self.rt\n",
    "\n",
    "    def ith_child(self, i):\n",
    "        return self.child[i]\n",
    "\n",
    "    def num_children(self):\n",
    "        return len(self.child)\n",
    "        \n",
    "\n",
    "class Pre(Tree):\n",
    "    def preorder(self):\n",
    "        if self.num_children() == 0:\n",
    "            return [self.rt]\n",
    "        if self.num_children() == 1:\n",
    "            return [self.rt] + self.ith_child(0).preorder()\n",
    "        return  [self.rt] + self.ith_child(0).preorder() + self.ith_child(1).preorder()"
   ]
  }
 ],
 "metadata": {
  "kernelspec": {
   "display_name": "Python 3",
   "language": "python",
   "name": "python3"
  },
  "language_info": {
   "codemirror_mode": {
    "name": "ipython",
    "version": 3
   },
   "file_extension": ".py",
   "mimetype": "text/x-python",
   "name": "python",
   "nbconvert_exporter": "python",
   "pygments_lexer": "ipython3",
   "version": "3.10.11"
  },
  "orig_nbformat": 4
 },
 "nbformat": 4,
 "nbformat_minor": 2
}
